{
 "cells": [
  {
   "cell_type": "code",
   "execution_count": null,
   "id": "f2618d1e",
   "metadata": {},
   "outputs": [],
   "source": [
    "import pandas as pd\n",
    "import matplotlib.pyplot as plt\n",
    "import seaborn as sns\n",
    "import os\n",
    "\n",
    "os.chdir(\"C:/Users/Roshan Baby/OneDrive - University of Surrey/MSc Project/Plotting\")\n",
    "xlsx = pd.ExcelFile('Attack & Defense-Silhouette_Alpha-New.xlsx')"
   ]
  },
  {
   "cell_type": "code",
   "execution_count": null,
   "id": "aca45d18",
   "metadata": {},
   "outputs": [],
   "source": [
    "data = pd.read_excel(xlsx, 'N-BaIoT_Silho-0.3, Alpha-0.8')"
   ]
  },
  {
   "cell_type": "code",
   "execution_count": null,
   "id": "a07b2d0c",
   "metadata": {},
   "outputs": [],
   "source": [
    "ax=sns.barplot(x = 'Strategy', y = 'Accuracy (%)', hue = 'Algorithm', data = data)\n",
    "ax.set(ylim=(65, 100))\n",
    "plt.legend(bbox_to_anchor=(1.05, 1), loc='upper left', borderaxespad=0)\n",
    "\n",
    "plt.savefig(\"Accuracy.png\",bbox_inches=\"tight\") \n",
    "plt.show()"
   ]
  },
  {
   "cell_type": "code",
   "execution_count": null,
   "id": "66d0db99",
   "metadata": {},
   "outputs": [],
   "source": [
    "ax=sns.barplot(x = 'Strategy', y = 'Precision', hue = 'Algorithm', data = data, palette = 'Blues', edgecolor = 'w')\n",
    "ax.set(ylim=(0.65, 1))\n",
    "plt.legend(bbox_to_anchor=(1.05, 1), loc='upper left', borderaxespad=0)\n",
    "\n",
    "plt.savefig(\"Precision.png\",bbox_inches=\"tight\") \n",
    "plt.show()"
   ]
  },
  {
   "cell_type": "code",
   "execution_count": null,
   "id": "b423bdda",
   "metadata": {},
   "outputs": [],
   "source": [
    "ax=sns.barplot(x = 'Strategy', y = 'Recall', hue = 'Algorithm', data = data, palette = 'Greens', edgecolor = 'w')\n",
    "ax.set(ylim=(0.1, 1))\n",
    "plt.legend(bbox_to_anchor=(1.05, 1), loc='upper left', borderaxespad=0)\n",
    "\n",
    "plt.savefig(\"Recall.png\",bbox_inches=\"tight\") \n",
    "plt.show()"
   ]
  },
  {
   "cell_type": "code",
   "execution_count": null,
   "id": "cb20a264",
   "metadata": {},
   "outputs": [],
   "source": [
    "ax=sns.barplot(x = 'Strategy', y = 'F1 Score', hue = 'Algorithm', data = data, palette = 'Reds', edgecolor = 'w')\n",
    "ax.set(ylim=(0.4, 0.75))\n",
    "plt.legend(bbox_to_anchor=(1.05, 1), loc='upper left', borderaxespad=0)\n",
    "\n",
    "plt.savefig(\"F1 Score.png\",bbox_inches=\"tight\") \n",
    "plt.show()"
   ]
  },
  {
   "cell_type": "code",
   "execution_count": null,
   "id": "c22d62d0",
   "metadata": {},
   "outputs": [],
   "source": [
    "ax=sns.barplot(x = 'Strategy', y = 'FPR (%)', hue = 'Algorithm', data = data, palette = 'Greys', edgecolor = 'w')\n",
    "ax.set(ylim=(0, 15))\n",
    "plt.legend(bbox_to_anchor=(1.05, 1), loc='upper left', borderaxespad=0)\n",
    "\n",
    "plt.savefig(\"FPR.png\",bbox_inches=\"tight\") \n",
    "plt.show()"
   ]
  },
  {
   "cell_type": "code",
   "execution_count": null,
   "id": "5abff3d0",
   "metadata": {},
   "outputs": [],
   "source": [
    "ax=sns.barplot(x = 'Strategy', y = 'Training Time (sec)', hue = 'Algorithm', data = data)\n",
    "ax.set(ylim=(0, 300))\n",
    "plt.legend(bbox_to_anchor=(1.05, 1), loc='upper left', borderaxespad=0)\n",
    "\n",
    "plt.savefig(\"Training Time.png\",bbox_inches=\"tight\") \n",
    "plt.show()"
   ]
  },
  {
   "cell_type": "code",
   "execution_count": null,
   "id": "f5c69b37",
   "metadata": {},
   "outputs": [],
   "source": [
    "data = pd.read_excel(xlsx, 'NSL-KDD_Silho-0.2, Alpha-0.2')\n",
    "\n",
    "ax=sns.barplot(x = 'Strategy', y = 'Accuracy (%)', hue = 'Algorithm', data = data)\n",
    "ax.set(ylim=(20, 100))\n",
    "plt.legend(bbox_to_anchor=(1.05, 1), loc='upper left', borderaxespad=0)\n",
    "\n",
    "plt.show()\n",
    "\n",
    "ax=sns.barplot(x = 'Strategy', y = 'Precision', hue = 'Algorithm', data = data)\n",
    "ax.set(ylim=(0, 1))\n",
    "plt.legend(bbox_to_anchor=(1.05, 1), loc='upper left', borderaxespad=0)\n",
    "\n",
    "plt.show()\n",
    "\n",
    "ax=sns.barplot(x = 'Strategy', y = 'Recall', hue = 'Algorithm', data = data)\n",
    "ax.set(ylim=(0, 1))\n",
    "plt.legend(bbox_to_anchor=(1.05, 1), loc='upper left', borderaxespad=0)\n",
    "\n",
    "plt.show()\n",
    "\n",
    "ax=sns.barplot(x = 'Strategy', y = 'F1 Score', hue = 'Algorithm', data = data)\n",
    "ax.set(ylim=(0, 1))\n",
    "plt.legend(bbox_to_anchor=(1.05, 1), loc='upper left', borderaxespad=0)\n",
    "\n",
    "plt.show()\n",
    "\n",
    "ax=sns.barplot(x = 'Strategy', y = 'FPR (%)', hue = 'Algorithm', data = data)\n",
    "ax.set(ylim=(0, 50))\n",
    "plt.legend(bbox_to_anchor=(1.05, 1), loc='upper left', borderaxespad=0)\n",
    "\n",
    "plt.show()\n",
    "\n",
    "ax=sns.barplot(x = 'Strategy', y = 'Training Time (sec)', hue = 'Algorithm', data = data)\n",
    "ax.set(ylim=(0, 300))\n",
    "plt.legend(bbox_to_anchor=(1.05, 1), loc='upper left', borderaxespad=0)\n",
    "\n",
    "plt.show()"
   ]
  },
  {
   "cell_type": "code",
   "execution_count": null,
   "id": "25105d5d",
   "metadata": {},
   "outputs": [],
   "source": [
    "data = pd.read_excel(xlsx, 'IoT-23_Silho-0.2, Alpha-0.2')\n",
    "\n",
    "ax=sns.barplot(x = 'Strategy', y = 'Accuracy (%)', hue = 'Algorithm', data = data)\n",
    "ax.set(ylim=(70, 90))\n",
    "plt.legend(bbox_to_anchor=(1.05, 1), loc='upper left', borderaxespad=0)\n",
    "\n",
    "plt.show()\n",
    "\n",
    "ax=sns.barplot(x = 'Strategy', y = 'Precision', hue = 'Algorithm', data = data)\n",
    "ax.set(ylim=(0, 1))\n",
    "plt.legend(bbox_to_anchor=(1.05, 1), loc='upper left', borderaxespad=0)\n",
    "\n",
    "plt.show()\n",
    "\n",
    "ax=sns.barplot(x = 'Strategy', y = 'Recall', hue = 'Algorithm', data = data)\n",
    "ax.set(ylim=(0, 1))\n",
    "plt.legend(bbox_to_anchor=(1.05, 1), loc='upper left', borderaxespad=0)\n",
    "\n",
    "plt.show()\n",
    "\n",
    "ax=sns.barplot(x = 'Strategy', y = 'F1 Score', hue = 'Algorithm', data = data)\n",
    "ax.set(ylim=(0, 1))\n",
    "plt.legend(bbox_to_anchor=(1.05, 1), loc='upper left', borderaxespad=0)\n",
    "\n",
    "plt.show()\n",
    "\n",
    "ax=sns.barplot(x = 'Strategy', y = 'FPR (%)', hue = 'Algorithm', data = data)\n",
    "ax.set(ylim=(0, 20))\n",
    "plt.legend(bbox_to_anchor=(1.05, 1), loc='upper left', borderaxespad=0)\n",
    "\n",
    "plt.show()\n",
    "\n",
    "ax=sns.barplot(x = 'Strategy', y = 'Training Time (sec)', hue = 'Algorithm', data = data)\n",
    "ax.set(ylim=(0, 300))\n",
    "plt.legend(bbox_to_anchor=(1.05, 1), loc='upper left', borderaxespad=0)\n",
    "\n",
    "plt.show()"
   ]
  },
  {
   "cell_type": "code",
   "execution_count": null,
   "id": "6707b329",
   "metadata": {},
   "outputs": [],
   "source": [
    "data = pd.read_excel(xlsx, 'N-BaIoT_Silho-0.2, Alpha-0.2')\n",
    "\n",
    "ax=sns.barplot(x = 'Strategy', y = 'Accuracy (%)', hue = 'Algorithm', data = data)\n",
    "ax.set(ylim=(80, 100))\n",
    "plt.legend(bbox_to_anchor=(1.05, 1), loc='upper left', borderaxespad=0)\n",
    "\n",
    "plt.show()\n",
    "\n",
    "ax=sns.barplot(x = 'Strategy', y = 'Precision', hue = 'Algorithm', data = data)\n",
    "ax.set(ylim=(0, 1))\n",
    "plt.legend(bbox_to_anchor=(1.05, 1), loc='upper left', borderaxespad=0)\n",
    "\n",
    "plt.show()\n",
    "\n",
    "ax=sns.barplot(x = 'Strategy', y = 'Recall', hue = 'Algorithm', data = data)\n",
    "ax.set(ylim=(0, 1))\n",
    "plt.legend(bbox_to_anchor=(1.05, 1), loc='upper left', borderaxespad=0)\n",
    "\n",
    "plt.show()\n",
    "\n",
    "ax=sns.barplot(x = 'Strategy', y = 'F1 Score', hue = 'Algorithm', data = data)\n",
    "ax.set(ylim=(0, 1))\n",
    "plt.legend(bbox_to_anchor=(1.05, 1), loc='upper left', borderaxespad=0)\n",
    "\n",
    "plt.show()\n",
    "\n",
    "ax=sns.barplot(x = 'Strategy', y = 'FPR (%)', hue = 'Algorithm', data = data)\n",
    "ax.set(ylim=(0, 5))\n",
    "plt.legend(bbox_to_anchor=(1.05, 1), loc='upper left', borderaxespad=0)\n",
    "\n",
    "plt.show()\n",
    "\n",
    "ax=sns.barplot(x = 'Strategy', y = 'Training Time (sec)', hue = 'Algorithm', data = data)\n",
    "ax.set(ylim=(0, 300))\n",
    "plt.legend(bbox_to_anchor=(1.05, 1), loc='upper left', borderaxespad=0)\n",
    "\n",
    "plt.show()"
   ]
  },
  {
   "cell_type": "code",
   "execution_count": null,
   "id": "8ee48e0b",
   "metadata": {},
   "outputs": [],
   "source": []
  }
 ],
 "metadata": {
  "kernelspec": {
   "display_name": "Python 3 (ipykernel)",
   "language": "python",
   "name": "python3"
  },
  "language_info": {
   "codemirror_mode": {
    "name": "ipython",
    "version": 3
   },
   "file_extension": ".py",
   "mimetype": "text/x-python",
   "name": "python",
   "nbconvert_exporter": "python",
   "pygments_lexer": "ipython3",
   "version": "3.9.7"
  }
 },
 "nbformat": 4,
 "nbformat_minor": 5
}
